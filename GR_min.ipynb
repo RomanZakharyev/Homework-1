{
 "cells": [
  {
   "cell_type": "markdown",
   "metadata": {},
   "source": [
    "## Нахождение минимума функции методом золотого сечения"
   ]
  },
  {
   "cell_type": "code",
   "execution_count": 53,
   "metadata": {
    "collapsed": true
   },
   "outputs": [],
   "source": [
    "import math\n",
    "import numpy as np\n",
    "import matplotlib\n",
    "import matplotlib.pyplot as plt"
   ]
  },
  {
   "cell_type": "code",
   "execution_count": 54,
   "metadata": {
    "collapsed": true
   },
   "outputs": [],
   "source": [
    "#Задаём исходную функцию, минимум которой необходимо найти\n",
    "def f(x): \n",
    "    f = - (math.cos(x))\n",
    "    return f"
   ]
  },
  {
   "cell_type": "code",
   "execution_count": 55,
   "metadata": {
    "collapsed": true
   },
   "outputs": [],
   "source": [
    "#Зададим функцию, находящую минимум методом золотого сечения    \n",
    "def golden_ratio(f, a, b, prec):\n",
    "    q = (math.sqrt(5) + 1) / 2 # - пропорция золотого сечения   \n",
    "    x1 = b - (b - a) / q\n",
    "    x2 = a + (b - a) / q\n",
    "    y1 = f(x1)\n",
    "    y2 = f(x2)\n",
    "    if abs(b - a) <= prec:\n",
    "        x = (a + b) / 2\n",
    "        return x\n",
    "    if y1 >= y2:\n",
    "        return golden_ratio(f, x1, b, prec)\n",
    "    else: \n",
    "        return golden_ratio(f, a, x2, prec)"
   ]
  },
  {
   "cell_type": "code",
   "execution_count": 56,
   "metadata": {},
   "outputs": [
    {
     "name": "stdout",
     "output_type": "stream",
     "text": [
      "6.283185317701559\n",
      "1.0516097614909346e-08\n"
     ]
    }
   ],
   "source": [
    "#Проверим программу на правильность нахождения минимумов на двух отрезках\n",
    "print (golden_ratio(f, 6, 7, 1E-10))\n",
    "print (golden_ratio(f, -1, 1, 1E-10))"
   ]
  },
  {
   "cell_type": "code",
   "execution_count": 57,
   "metadata": {},
   "outputs": [
    {
     "data": {
      "image/png": "[encoded data removed]",
      "text/plain": [
       "<matplotlib.figure.Figure at 0x2b314d43898>"
      ]
     },
     "metadata": {},
     "output_type": "display_data"
    }
   ],
   "source": [
    "#Построим график исходной функции с указанием минимума на одном из отрезков\n",
    "xx = np.linspace(-4, 4, 100)\n",
    "minfun = golden_ratio(f, -1, 1, 1E-10)\n",
    "plt.plot(xx, [f (xk) for xk in xx], '-')\n",
    "plt.plot(minfun, f (minfun), 'o')\n",
    "plt.title ('Минимум функции на отрезке')\n",
    "plt.grid(True)\n",
    "plt.show()"
   ]
  },
  {
   "cell_type": "code",
   "execution_count": null,
   "metadata": {
    "collapsed": true
   },
   "outputs": [],
   "source": []
  }
 ],
 "metadata": {
  "kernelspec": {
   "display_name": "Python 3",
   "language": "python",
   "name": "python3"
  },
  "language_info": {
   "codemirror_mode": {
    "name": "ipython",
    "version": 3
   },
   "file_extension": ".py",
   "mimetype": "text/x-python",
   "name": "python",
   "nbconvert_exporter": "python",
   "pygments_lexer": "ipython3",
   "version": "3.6.3"
  }
 },
 "nbformat": 4,
 "nbformat_minor": 2
}

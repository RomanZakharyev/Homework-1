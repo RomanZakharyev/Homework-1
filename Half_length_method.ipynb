{
 "cells": [
  {
   "cell_type": "markdown",
   "metadata": {},
   "source": [
    " # Корни уравнения методом деления пополам уравнения abs(sin x) = kx"
   ]
  },
  {
   "cell_type": "code",
   "execution_count": 15,
   "metadata": {},
   "outputs": [],
   "source": [
    "import math\n",
    "\n",
    "#Задавание исходной функции\n",
    "def f(x, k):\n",
    "    return abs(math.sin(x)) - k * x\n",
    "\n",
    "#Нахождение корней путём деления отрезка пополам при k > 0 и отдельное рассмотрение нестандартных случаев\n",
    "def roots(k):\n",
    "    if k > 0:\n",
    "        eps = 10 ** -10 #(задавание точности)\n",
    "        out = []\n",
    "        l = math.pi / -2\n",
    "        r = 0.0\n",
    "        mid = 0.0\n",
    "        while(k * l <= 1):\n",
    "            l += math.pi / 2\n",
    "            r += math.pi / 2\n",
    "            if(f(l, k) * f(r, k) < 0):\n",
    "                mid = (l + r) / 2\n",
    "                while (abs(f(mid, k)) > eps):\n",
    "                    mid = (l + r) / 2\n",
    "                    if(f(mid, k) * f(l, k) > 0):\n",
    "                        l = mid\n",
    "                    else:\n",
    "                        r = mid\n",
    "            out += [mid]\n",
    "        return out\n",
    "    \n",
    "    elif k == 0:\n",
    "        return ('pi*n')\n",
    "    \n",
    "    elif abs(k) >= 1:\n",
    "        return (0.0)\n",
    "    \n",
    "    else:\n",
    "        k *= -1\n",
    "        t = roots(k)\n",
    "        out = [-1 * a for a in t]\n",
    "        return out"
   ]
  },
  {
   "cell_type": "markdown",
   "metadata": {},
   "source": [
    "Проверка корней при различных значениях k"
   ]
  },
  {
   "cell_type": "code",
   "execution_count": 16,
   "metadata": {},
   "outputs": [
    {
     "data": {
      "text/plain": [
       "'pi*n'"
      ]
     },
     "execution_count": 16,
     "metadata": {},
     "output_type": "execute_result"
    }
   ],
   "source": [
    "roots(0)"
   ]
  },
  {
   "cell_type": "code",
   "execution_count": 17,
   "metadata": {},
   "outputs": [
    {
     "data": {
      "text/plain": [
       "[0.0, 0.0]"
      ]
     },
     "execution_count": 17,
     "metadata": {},
     "output_type": "execute_result"
    }
   ],
   "source": [
    "roots(5)"
   ]
  },
  {
   "cell_type": "code",
   "execution_count": 18,
   "metadata": {},
   "outputs": [
    {
     "data": {
      "text/plain": [
       "[-0.0, -1.895494267035986, -1.895494267035986]"
      ]
     },
     "execution_count": 18,
     "metadata": {},
     "output_type": "execute_result"
    }
   ],
   "source": [
    "roots(-0.5)"
   ]
  },
  {
   "cell_type": "code",
   "execution_count": 19,
   "metadata": {},
   "outputs": [
    {
     "data": {
      "text/plain": [
       "[0.0,\n",
       " 2.879450093979969,\n",
       " 2.879450093979969,\n",
       " 2.879450093979969,\n",
       " 2.879450093979969,\n",
       " 2.879450093979969,\n",
       " 2.879450093979969,\n",
       " 2.879450093979969]"
      ]
     },
     "execution_count": 19,
     "metadata": {},
     "output_type": "execute_result"
    }
   ],
   "source": [
    "roots(0.09)"
   ]
  }
 ],
 "metadata": {
  "kernelspec": {
   "display_name": "Python 3",
   "language": "python",
   "name": "python3"
  },
  "language_info": {
   "codemirror_mode": {
    "name": "ipython",
    "version": 3
   },
   "file_extension": ".py",
   "mimetype": "text/x-python",
   "name": "python",
   "nbconvert_exporter": "python",
   "pygments_lexer": "ipython3",
   "version": "3.6.3"
  }
 },
 "nbformat": 4,
 "nbformat_minor": 2
}

{
 "cells": [
  {
   "cell_type": "markdown",
   "metadata": {},
   "source": [
    "# Решение уравнения sin (x) - k * x методом деления отрезка пополам"
   ]
  },
  {
   "cell_type": "code",
   "execution_count": 51,
   "metadata": {
    "collapsed": true
   },
   "outputs": [],
   "source": [
    "import math\n",
    "\n",
    "#Задавание исходной функции\n",
    "def f(x, k):\n",
    "    return abs(math.sin(x)) - k * x\n",
    "\n",
    "#Нахождение корней путём деления отрезка пополам при k > 0\n",
    "def roots(k):\n",
    "    if k > 0:\n",
    "        prec = 10 ** -8 #(задавание точности)\n",
    "        res = []\n",
    "        left = math.pi / -2\n",
    "        right = 0\n",
    "        center = 0\n",
    "        while(k * left <= 1):\n",
    "            left += math.pi / 2\n",
    "            right += math.pi / 2\n",
    "            if(f(left, k) * f(right, k) < 0): # (проверка на получение значений с разными знаками)\n",
    "                center = (left + right) / 2 # (непосредственно деление отрезка пополам)\n",
    "                while (abs(f(center, k)) > prec): # (сравнение с заданной точностью и смена границ при необходимости)\n",
    "                    center = (left + right) / 2\n",
    "                    if(f(center, k) * f(left, k) > 0):\n",
    "                        left = center\n",
    "                    else:\n",
    "                        right = center\n",
    "            res += [center]\n",
    "        return res\n",
    "\n",
    "# Отдельное рассмотрение нестандартных значений k    \n",
    "    elif k == 0:\n",
    "        return ('pi * n')\n",
    "    \n",
    "    elif abs(k) >= 1:\n",
    "        return (0)\n",
    "    \n",
    "    else:\n",
    "        k *= -1\n",
    "        p = roots(k)\n",
    "        res = [-1 * a for a in p]\n",
    "        return res\n",
    "    "
   ]
  },
  {
   "cell_type": "code",
   "execution_count": 52,
   "metadata": {},
   "outputs": [
    {
     "data": {
      "text/plain": [
       "'pi * n'"
      ]
     },
     "execution_count": 52,
     "metadata": {},
     "output_type": "execute_result"
    }
   ],
   "source": [
    "roots(0)"
   ]
  },
  {
   "cell_type": "code",
   "execution_count": 53,
   "metadata": {},
   "outputs": [
    {
     "data": {
      "text/plain": [
       "[0, 0]"
      ]
     },
     "execution_count": 53,
     "metadata": {},
     "output_type": "execute_result"
    }
   ],
   "source": [
    "roots(5)"
   ]
  },
  {
   "cell_type": "code",
   "execution_count": 54,
   "metadata": {},
   "outputs": [
    {
     "data": {
      "text/plain": [
       "[0, -1.8954942714247403, -1.8954942714247403]"
      ]
     },
     "execution_count": 54,
     "metadata": {},
     "output_type": "execute_result"
    }
   ],
   "source": [
    "roots(-0.5)"
   ]
  },
  {
   "cell_type": "code",
   "execution_count": 55,
   "metadata": {},
   "outputs": [
    {
     "data": {
      "text/plain": [
       "[0,\n",
       " 2.879450092517051,\n",
       " 2.879450092517051,\n",
       " 2.879450092517051,\n",
       " 2.879450092517051,\n",
       " 2.879450092517051,\n",
       " 2.879450092517051,\n",
       " 2.879450092517051]"
      ]
     },
     "execution_count": 55,
     "metadata": {},
     "output_type": "execute_result"
    }
   ],
   "source": [
    "roots(0.09)"
   ]
  },
  {
   "cell_type": "code",
   "execution_count": null,
   "metadata": {
    "collapsed": true
   },
   "outputs": [],
   "source": []
  }
 ],
 "metadata": {
  "kernelspec": {
   "display_name": "Python 3",
   "language": "python",
   "name": "python3"
  },
  "language_info": {
   "codemirror_mode": {
    "name": "ipython",
    "version": 3
   },
   "file_extension": ".py",
   "mimetype": "text/x-python",
   "name": "python",
   "nbconvert_exporter": "python",
   "pygments_lexer": "ipython3",
   "version": "3.6.3"
  }
 },
 "nbformat": 4,
 "nbformat_minor": 2
}
